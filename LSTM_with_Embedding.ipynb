{
  "cells": [
    {
      "cell_type": "markdown",
      "metadata": {
        "id": "ChWIhAkyvZsY"
      },
      "source": [
        "# 循環神經網絡 LSTM (長短期記憶)+ embedding 來學習字母表順序"
      ]
    },
    {
      "cell_type": "markdown",
      "metadata": {
        "id": "W2FLmN3pvZsa"
      },
      "source": [
        "## 模型 1. 用LSTM學習一個字符到一個字符映射"
      ]
    },
    {
      "cell_type": "markdown",
      "metadata": {
        "id": "SqSxypRcvZsa"
      },
      "source": [
        "### STEP1. 匯入 Keras 及相關模組"
      ]
    },
    {
      "cell_type": "code",
      "execution_count": 1,
      "metadata": {
        "id": "tBZopwQLvZsb"
      },
      "outputs": [],
      "source": [
        "import numpy\n",
        "import tensorflow\n",
        "from tensorflow import keras\n",
        "from tensorflow.keras.models import Sequential\n",
        "from tensorflow.keras.layers import Dense, Embedding\n",
        "from tensorflow.keras.layers import LSTM\n",
        "from tensorflow.keras import utils\n",
        "from tensorflow.keras.preprocessing.sequence import pad_sequences\n",
        "\n",
        "# 給定隨機的種子, 以便讓大家跑起來的結果是相同的\n",
        "numpy.random.seed(7)"
      ]
    },
    {
      "cell_type": "markdown",
      "metadata": {
        "id": "zjweartxvZse"
      },
      "source": [
        "### STEP2. 準備資料\n",
        "\n",
        "我們現在可以定義我們的數據集，字母表(alphabet)。為了便於閱讀，我們使用大寫字母來定義字母表。\n",
        "\n",
        "我們需要將字母表的每個字母映射到數字以便使用人工網絡來進行訓練。我們可以通過為字符創建字母索引的字典來輕鬆完成此操作。\n",
        "我們還可以創建一個反向查找，將預測轉換回字符以供以後使用。"
      ]
    },
    {
      "cell_type": "code",
      "execution_count": 2,
      "metadata": {
        "id": "7J7kuSSJvZse"
      },
      "outputs": [],
      "source": [
        "# 定義序列數據集\n",
        "alphabet = \"ABCDEFGHIJKLMNOPQRSTUVWXYZ\"\n",
        "\n",
        "# 創建字符映射到整數（0 - 25)和反相的查詢字典物件\n",
        "char_to_int = dict((c, i) for i, c in enumerate(alphabet))\n",
        "int_to_char = dict((i, c) for i, c in enumerate(alphabet))"
      ]
    },
    {
      "cell_type": "code",
      "execution_count": 3,
      "metadata": {
        "colab": {
          "base_uri": "https://localhost:8080/"
        },
        "id": "P30RT3HkvZsg",
        "outputId": "bf8f642e-df6a-4245-bc63-0bcb61588f17"
      },
      "outputs": [
        {
          "name": "stdout",
          "output_type": "stream",
          "text": [
            "字母對應到數字編號: \n",
            " {'A': 0, 'B': 1, 'C': 2, 'D': 3, 'E': 4, 'F': 5, 'G': 6, 'H': 7, 'I': 8, 'J': 9, 'K': 10, 'L': 11, 'M': 12, 'N': 13, 'O': 14, 'P': 15, 'Q': 16, 'R': 17, 'S': 18, 'T': 19, 'U': 20, 'V': 21, 'W': 22, 'X': 23, 'Y': 24, 'Z': 25}\n",
            "\n",
            "\n",
            "數字編號對應到字母: \n",
            " {0: 'A', 1: 'B', 2: 'C', 3: 'D', 4: 'E', 5: 'F', 6: 'G', 7: 'H', 8: 'I', 9: 'J', 10: 'K', 11: 'L', 12: 'M', 13: 'N', 14: 'O', 15: 'P', 16: 'Q', 17: 'R', 18: 'S', 19: 'T', 20: 'U', 21: 'V', 22: 'W', 23: 'X', 24: 'Y', 25: 'Z'}\n"
          ]
        }
      ],
      "source": [
        "# 打印看一下\n",
        "print(\"字母對應到數字編號: \\n\", char_to_int)\n",
        "print(\"\\n\")\n",
        "\n",
        "print(\"數字編號對應到字母: \\n\", int_to_char)"
      ]
    },
    {
      "cell_type": "markdown",
      "metadata": {
        "id": "iuy6dSK7vZsj"
      },
      "source": [
        "### STEP3. 準備訓練用資料\n",
        "\n",
        "現在我們需要創建我們的輸入(X)和輸出(y)來訓練我們的神經網絡。我們可以通過定義一個輸入序列長度，然後從輸入字母序列中讀取序列。\n",
        "例如，我們使用輸入長度1.從原始輸入數據的開頭開始，我們可以讀取第一個字母“A”，下一個字母作為預測“B”。我們沿著一個字符移動並重複，直到達到“Z”的預測。"
      ]
    },
    {
      "cell_type": "code",
      "execution_count": 4,
      "metadata": {
        "colab": {
          "base_uri": "https://localhost:8080/"
        },
        "id": "5WpCS4QavZsj",
        "outputId": "ed3a8fbf-ad01-4a29-da0f-4e7fa62f9962"
      },
      "outputs": [
        {
          "name": "stdout",
          "output_type": "stream",
          "text": [
            "A -> B\n",
            "B -> C\n",
            "C -> D\n",
            "D -> E\n",
            "E -> F\n",
            "F -> G\n",
            "G -> H\n",
            "H -> I\n",
            "I -> J\n",
            "J -> K\n",
            "K -> L\n",
            "L -> M\n",
            "M -> N\n",
            "N -> O\n",
            "O -> P\n",
            "P -> Q\n",
            "Q -> R\n",
            "R -> S\n",
            "S -> T\n",
            "T -> U\n",
            "U -> V\n",
            "V -> W\n",
            "W -> X\n",
            "X -> Y\n",
            "Y -> Z\n"
          ]
        }
      ],
      "source": [
        "# 準備輸入數據集\n",
        "seq_length = 1\n",
        "dataX = []\n",
        "dataY = []\n",
        "for i in range(0, len(alphabet) - seq_length, 1):\n",
        "    seq_in = alphabet[i:i + seq_length]\n",
        "    seq_out = alphabet[i + seq_length]\n",
        "    dataX.append([char_to_int[char] for char in seq_in])\n",
        "    dataY.append(char_to_int[seq_out])\n",
        "    print(seq_in, '->', seq_out)"
      ]
    },
    {
      "cell_type": "code",
      "execution_count": 5,
      "metadata": {
        "colab": {
          "base_uri": "https://localhost:8080/"
        },
        "id": "O0hvdn_7FYvS",
        "outputId": "542a7fdf-152e-4147-c687-5cdcd04e2fa8"
      },
      "outputs": [
        {
          "name": "stdout",
          "output_type": "stream",
          "text": [
            "[[0], [1], [2], [3], [4], [5], [6], [7], [8], [9], [10], [11], [12], [13], [14], [15], [16], [17], [18], [19], [20], [21], [22], [23], [24]]\n",
            "[1, 2, 3, 4, 5, 6, 7, 8, 9, 10, 11, 12, 13, 14, 15, 16, 17, 18, 19, 20, 21, 22, 23, 24, 25]\n"
          ]
        }
      ],
      "source": [
        "print(dataX)\n",
        "print(dataY)"
      ]
    },
    {
      "cell_type": "markdown",
      "metadata": {
        "id": "rtvZON-rvZsl"
      },
      "source": [
        "### STEP4. 資料預處理\n",
        "\n",
        "> ABCDEFGHIJKLMNOPQRSTUVWXYZ\n",
        "\n",
        "> 例如:\n",
        "\n",
        "> 給 J -> 預測 K\n",
        "\n",
        "> 給 X -> 預測 Y\n"
      ]
    },
    {
      "cell_type": "code",
      "execution_count": 6,
      "metadata": {
        "colab": {
          "base_uri": "https://localhost:8080/"
        },
        "id": "rJPJgOtjvZsm",
        "outputId": "3a4c245b-464e-4ead-cca3-afdd3f35c0a4"
      },
      "outputs": [
        {
          "name": "stdout",
          "output_type": "stream",
          "text": [
            "X shape:  (25, 1)\n",
            "y shape:  (25, 26)\n"
          ]
        }
      ],
      "source": [
        "X = numpy.array(dataX)\n",
        "\n",
        "# 歸一化\n",
        "# X = X / float(len(alphabet)) # Let Embedding do the job!\n",
        "\n",
        "# one-hot 編碼輸出變量\n",
        "y = utils.to_categorical(dataY)\n",
        "\n",
        "print(\"X shape: \", X.shape) # (25筆samples, \"1\"個時間步長) (batch, timesteps)\n",
        "print(\"y shape: \", y.shape)"
      ]
    },
    {
      "cell_type": "markdown",
      "metadata": {
        "id": "oZZ7lYj_vZso"
      },
      "source": [
        "### STEP5. 建立模型"
      ]
    },
    {
      "cell_type": "code",
      "execution_count": 18,
      "metadata": {
        "colab": {
          "base_uri": "https://localhost:8080/"
        },
        "id": "fxKeh98zuAXv",
        "outputId": "2a9ff3f7-4a75-46f1-a138-bd3e51e2aa0a"
      },
      "outputs": [
        {
          "name": "stdout",
          "output_type": "stream",
          "text": [
            "Model: \"sequential_5\"\n",
            "_________________________________________________________________\n",
            " Layer (type)                Output Shape              Param #   \n",
            "=================================================================\n",
            " embedding_5 (Embedding)     (None, 1, 8)              208       \n",
            "                                                                 \n",
            " lstm_5 (LSTM)               (None, 32)                5248      \n",
            "                                                                 \n",
            " dense_5 (Dense)             (None, 26)                858       \n",
            "                                                                 \n",
            "=================================================================\n",
            "Total params: 6314 (24.66 KB)\n",
            "Trainable params: 6314 (24.66 KB)\n",
            "Non-trainable params: 0 (0.00 Byte)\n",
            "_________________________________________________________________\n"
          ]
        }
      ],
      "source": [
        "from tensorflow.keras import Sequential\n",
        "from tensorflow.keras.layers import Dense, SimpleRNN, Dropout, Embedding\n",
        "\n",
        "# 創建模型\n",
        "model = Sequential()   # 輸入 （sample size，time steps ） with label encoding!!!\n",
        "model.add(Embedding(26, 8, input_length=X.shape[1])) # => Embedding參數(input features, output features (word2vec's size), time steps)\n",
        "model.add(LSTM(32))\n",
        "model.add(Dense(26, activation='softmax'))\n",
        "\n",
        "model.summary()"
      ]
    },
    {
      "cell_type": "markdown",
      "metadata": {
        "id": "tbU3VGnhvZsr"
      },
      "source": [
        "### STEP6. 定義訓練並進行訓練"
      ]
    },
    {
      "cell_type": "code",
      "execution_count": 19,
      "metadata": {
        "colab": {
          "base_uri": "https://localhost:8080/"
        },
        "id": "SxgdNy9nvZsr",
        "outputId": "9cf61f78-6191-4ea8-bcf7-1f92f76191de"
      },
      "outputs": [
        {
          "name": "stdout",
          "output_type": "stream",
          "text": [
            "Epoch 1/100\n",
            "25/25 - 2s - loss: 3.2636 - categorical_accuracy: 0.0000e+00 - 2s/epoch - 77ms/step\n",
            "Epoch 2/100\n",
            "25/25 - 0s - loss: 3.2570 - categorical_accuracy: 0.0400 - 82ms/epoch - 3ms/step\n",
            "Epoch 3/100\n",
            "25/25 - 0s - loss: 3.2542 - categorical_accuracy: 0.0800 - 87ms/epoch - 3ms/step\n",
            "Epoch 4/100\n",
            "25/25 - 0s - loss: 3.2512 - categorical_accuracy: 0.0800 - 84ms/epoch - 3ms/step\n",
            "Epoch 5/100\n",
            "25/25 - 0s - loss: 3.2479 - categorical_accuracy: 0.1200 - 85ms/epoch - 3ms/step\n",
            "Epoch 6/100\n",
            "25/25 - 0s - loss: 3.2439 - categorical_accuracy: 0.2000 - 86ms/epoch - 3ms/step\n",
            "Epoch 7/100\n",
            "25/25 - 0s - loss: 3.2394 - categorical_accuracy: 0.3200 - 85ms/epoch - 3ms/step\n",
            "Epoch 8/100\n",
            "25/25 - 0s - loss: 3.2336 - categorical_accuracy: 0.3200 - 86ms/epoch - 3ms/step\n",
            "Epoch 9/100\n",
            "25/25 - 0s - loss: 3.2258 - categorical_accuracy: 0.4400 - 81ms/epoch - 3ms/step\n",
            "Epoch 10/100\n",
            "25/25 - 0s - loss: 3.2168 - categorical_accuracy: 0.6400 - 85ms/epoch - 3ms/step\n",
            "Epoch 11/100\n",
            "25/25 - 0s - loss: 3.2051 - categorical_accuracy: 0.6400 - 90ms/epoch - 4ms/step\n",
            "Epoch 12/100\n",
            "25/25 - 0s - loss: 3.1908 - categorical_accuracy: 0.7200 - 82ms/epoch - 3ms/step\n",
            "Epoch 13/100\n",
            "25/25 - 0s - loss: 3.1730 - categorical_accuracy: 0.6800 - 83ms/epoch - 3ms/step\n",
            "Epoch 14/100\n",
            "25/25 - 0s - loss: 3.1507 - categorical_accuracy: 0.7200 - 89ms/epoch - 4ms/step\n",
            "Epoch 15/100\n",
            "25/25 - 0s - loss: 3.1240 - categorical_accuracy: 0.6800 - 85ms/epoch - 3ms/step\n",
            "Epoch 16/100\n",
            "25/25 - 0s - loss: 3.0922 - categorical_accuracy: 0.7600 - 84ms/epoch - 3ms/step\n",
            "Epoch 17/100\n",
            "25/25 - 0s - loss: 3.0531 - categorical_accuracy: 0.7200 - 85ms/epoch - 3ms/step\n",
            "Epoch 18/100\n",
            "25/25 - 0s - loss: 3.0086 - categorical_accuracy: 0.6800 - 87ms/epoch - 3ms/step\n",
            "Epoch 19/100\n",
            "25/25 - 0s - loss: 2.9575 - categorical_accuracy: 0.6800 - 90ms/epoch - 4ms/step\n",
            "Epoch 20/100\n",
            "25/25 - 0s - loss: 2.8992 - categorical_accuracy: 0.6800 - 85ms/epoch - 3ms/step\n",
            "Epoch 21/100\n",
            "25/25 - 0s - loss: 2.8349 - categorical_accuracy: 0.7200 - 83ms/epoch - 3ms/step\n",
            "Epoch 22/100\n",
            "25/25 - 0s - loss: 2.7635 - categorical_accuracy: 0.6800 - 96ms/epoch - 4ms/step\n",
            "Epoch 23/100\n",
            "25/25 - 0s - loss: 2.6867 - categorical_accuracy: 0.7200 - 86ms/epoch - 3ms/step\n",
            "Epoch 24/100\n",
            "25/25 - 0s - loss: 2.6050 - categorical_accuracy: 0.7200 - 84ms/epoch - 3ms/step\n",
            "Epoch 25/100\n",
            "25/25 - 0s - loss: 2.5225 - categorical_accuracy: 0.7200 - 86ms/epoch - 3ms/step\n",
            "Epoch 26/100\n",
            "25/25 - 0s - loss: 2.4369 - categorical_accuracy: 0.7200 - 83ms/epoch - 3ms/step\n",
            "Epoch 27/100\n",
            "25/25 - 0s - loss: 2.3517 - categorical_accuracy: 0.7200 - 85ms/epoch - 3ms/step\n",
            "Epoch 28/100\n",
            "25/25 - 0s - loss: 2.2671 - categorical_accuracy: 0.7200 - 86ms/epoch - 3ms/step\n",
            "Epoch 29/100\n",
            "25/25 - 0s - loss: 2.1796 - categorical_accuracy: 0.7200 - 87ms/epoch - 3ms/step\n",
            "Epoch 30/100\n",
            "25/25 - 0s - loss: 2.0937 - categorical_accuracy: 0.7200 - 85ms/epoch - 3ms/step\n",
            "Epoch 31/100\n",
            "25/25 - 0s - loss: 2.0107 - categorical_accuracy: 0.7200 - 83ms/epoch - 3ms/step\n",
            "Epoch 32/100\n",
            "25/25 - 0s - loss: 1.9290 - categorical_accuracy: 0.7200 - 86ms/epoch - 3ms/step\n",
            "Epoch 33/100\n",
            "25/25 - 0s - loss: 1.8521 - categorical_accuracy: 0.7200 - 85ms/epoch - 3ms/step\n",
            "Epoch 34/100\n",
            "25/25 - 0s - loss: 1.7726 - categorical_accuracy: 0.7600 - 89ms/epoch - 4ms/step\n",
            "Epoch 35/100\n",
            "25/25 - 0s - loss: 1.6992 - categorical_accuracy: 0.7600 - 86ms/epoch - 3ms/step\n",
            "Epoch 36/100\n",
            "25/25 - 0s - loss: 1.6254 - categorical_accuracy: 0.7600 - 87ms/epoch - 3ms/step\n",
            "Epoch 37/100\n",
            "25/25 - 0s - loss: 1.5532 - categorical_accuracy: 0.8000 - 86ms/epoch - 3ms/step\n",
            "Epoch 38/100\n",
            "25/25 - 0s - loss: 1.4843 - categorical_accuracy: 0.7600 - 84ms/epoch - 3ms/step\n",
            "Epoch 39/100\n",
            "25/25 - 0s - loss: 1.4151 - categorical_accuracy: 0.8000 - 87ms/epoch - 3ms/step\n",
            "Epoch 40/100\n",
            "25/25 - 0s - loss: 1.3560 - categorical_accuracy: 0.8400 - 81ms/epoch - 3ms/step\n",
            "Epoch 41/100\n",
            "25/25 - 0s - loss: 1.2923 - categorical_accuracy: 0.8800 - 82ms/epoch - 3ms/step\n",
            "Epoch 42/100\n",
            "25/25 - 0s - loss: 1.2294 - categorical_accuracy: 0.9200 - 85ms/epoch - 3ms/step\n",
            "Epoch 43/100\n",
            "25/25 - 0s - loss: 1.1761 - categorical_accuracy: 0.9600 - 86ms/epoch - 3ms/step\n",
            "Epoch 44/100\n",
            "25/25 - 0s - loss: 1.1215 - categorical_accuracy: 0.9600 - 86ms/epoch - 3ms/step\n",
            "Epoch 45/100\n",
            "25/25 - 0s - loss: 1.0697 - categorical_accuracy: 0.9600 - 96ms/epoch - 4ms/step\n",
            "Epoch 46/100\n",
            "25/25 - 0s - loss: 1.0196 - categorical_accuracy: 0.9600 - 81ms/epoch - 3ms/step\n",
            "Epoch 47/100\n",
            "25/25 - 0s - loss: 0.9712 - categorical_accuracy: 0.9600 - 86ms/epoch - 3ms/step\n",
            "Epoch 48/100\n",
            "25/25 - 0s - loss: 0.9264 - categorical_accuracy: 0.9600 - 87ms/epoch - 3ms/step\n",
            "Epoch 49/100\n",
            "25/25 - 0s - loss: 0.8851 - categorical_accuracy: 0.9600 - 82ms/epoch - 3ms/step\n",
            "Epoch 50/100\n",
            "25/25 - 0s - loss: 0.8415 - categorical_accuracy: 0.9600 - 81ms/epoch - 3ms/step\n",
            "Epoch 51/100\n",
            "25/25 - 0s - loss: 0.8072 - categorical_accuracy: 0.9600 - 85ms/epoch - 3ms/step\n",
            "Epoch 52/100\n",
            "25/25 - 0s - loss: 0.7667 - categorical_accuracy: 0.9600 - 79ms/epoch - 3ms/step\n",
            "Epoch 53/100\n",
            "25/25 - 0s - loss: 0.7328 - categorical_accuracy: 0.9600 - 82ms/epoch - 3ms/step\n",
            "Epoch 54/100\n",
            "25/25 - 0s - loss: 0.7009 - categorical_accuracy: 0.9600 - 85ms/epoch - 3ms/step\n",
            "Epoch 55/100\n",
            "25/25 - 0s - loss: 0.6674 - categorical_accuracy: 0.9600 - 100ms/epoch - 4ms/step\n",
            "Epoch 56/100\n",
            "25/25 - 0s - loss: 0.6373 - categorical_accuracy: 0.9600 - 90ms/epoch - 4ms/step\n",
            "Epoch 57/100\n",
            "25/25 - 0s - loss: 0.6103 - categorical_accuracy: 0.9600 - 88ms/epoch - 4ms/step\n",
            "Epoch 58/100\n",
            "25/25 - 0s - loss: 0.5816 - categorical_accuracy: 1.0000 - 89ms/epoch - 4ms/step\n",
            "Epoch 59/100\n",
            "25/25 - 0s - loss: 0.5556 - categorical_accuracy: 1.0000 - 92ms/epoch - 4ms/step\n",
            "Epoch 60/100\n",
            "25/25 - 0s - loss: 0.5317 - categorical_accuracy: 1.0000 - 86ms/epoch - 3ms/step\n",
            "Epoch 61/100\n",
            "25/25 - 0s - loss: 0.5078 - categorical_accuracy: 1.0000 - 87ms/epoch - 3ms/step\n",
            "Epoch 62/100\n",
            "25/25 - 0s - loss: 0.4859 - categorical_accuracy: 1.0000 - 84ms/epoch - 3ms/step\n",
            "Epoch 63/100\n",
            "25/25 - 0s - loss: 0.4621 - categorical_accuracy: 1.0000 - 87ms/epoch - 3ms/step\n",
            "Epoch 64/100\n",
            "25/25 - 0s - loss: 0.4439 - categorical_accuracy: 1.0000 - 86ms/epoch - 3ms/step\n",
            "Epoch 65/100\n",
            "25/25 - 0s - loss: 0.4244 - categorical_accuracy: 1.0000 - 87ms/epoch - 3ms/step\n",
            "Epoch 66/100\n",
            "25/25 - 0s - loss: 0.4063 - categorical_accuracy: 1.0000 - 92ms/epoch - 4ms/step\n",
            "Epoch 67/100\n",
            "25/25 - 0s - loss: 0.3897 - categorical_accuracy: 1.0000 - 94ms/epoch - 4ms/step\n",
            "Epoch 68/100\n",
            "25/25 - 0s - loss: 0.3725 - categorical_accuracy: 1.0000 - 90ms/epoch - 4ms/step\n",
            "Epoch 69/100\n",
            "25/25 - 0s - loss: 0.3564 - categorical_accuracy: 1.0000 - 83ms/epoch - 3ms/step\n",
            "Epoch 70/100\n",
            "25/25 - 0s - loss: 0.3413 - categorical_accuracy: 1.0000 - 100ms/epoch - 4ms/step\n",
            "Epoch 71/100\n",
            "25/25 - 0s - loss: 0.3276 - categorical_accuracy: 1.0000 - 88ms/epoch - 4ms/step\n",
            "Epoch 72/100\n",
            "25/25 - 0s - loss: 0.3134 - categorical_accuracy: 1.0000 - 82ms/epoch - 3ms/step\n",
            "Epoch 73/100\n",
            "25/25 - 0s - loss: 0.3006 - categorical_accuracy: 1.0000 - 81ms/epoch - 3ms/step\n",
            "Epoch 74/100\n",
            "25/25 - 0s - loss: 0.2883 - categorical_accuracy: 1.0000 - 86ms/epoch - 3ms/step\n",
            "Epoch 75/100\n",
            "25/25 - 0s - loss: 0.2760 - categorical_accuracy: 1.0000 - 85ms/epoch - 3ms/step\n",
            "Epoch 76/100\n",
            "25/25 - 0s - loss: 0.2655 - categorical_accuracy: 1.0000 - 104ms/epoch - 4ms/step\n",
            "Epoch 77/100\n",
            "25/25 - 0s - loss: 0.2560 - categorical_accuracy: 1.0000 - 125ms/epoch - 5ms/step\n",
            "Epoch 78/100\n",
            "25/25 - 0s - loss: 0.2444 - categorical_accuracy: 1.0000 - 124ms/epoch - 5ms/step\n",
            "Epoch 79/100\n",
            "25/25 - 0s - loss: 0.2344 - categorical_accuracy: 1.0000 - 117ms/epoch - 5ms/step\n",
            "Epoch 80/100\n",
            "25/25 - 0s - loss: 0.2258 - categorical_accuracy: 1.0000 - 119ms/epoch - 5ms/step\n",
            "Epoch 81/100\n",
            "25/25 - 0s - loss: 0.2168 - categorical_accuracy: 1.0000 - 123ms/epoch - 5ms/step\n",
            "Epoch 82/100\n",
            "25/25 - 0s - loss: 0.2085 - categorical_accuracy: 1.0000 - 118ms/epoch - 5ms/step\n",
            "Epoch 83/100\n",
            "25/25 - 0s - loss: 0.2012 - categorical_accuracy: 1.0000 - 116ms/epoch - 5ms/step\n",
            "Epoch 84/100\n",
            "25/25 - 0s - loss: 0.1931 - categorical_accuracy: 1.0000 - 111ms/epoch - 4ms/step\n",
            "Epoch 85/100\n",
            "25/25 - 0s - loss: 0.1854 - categorical_accuracy: 1.0000 - 115ms/epoch - 5ms/step\n",
            "Epoch 86/100\n",
            "25/25 - 0s - loss: 0.1787 - categorical_accuracy: 1.0000 - 118ms/epoch - 5ms/step\n",
            "Epoch 87/100\n",
            "25/25 - 0s - loss: 0.1723 - categorical_accuracy: 1.0000 - 124ms/epoch - 5ms/step\n",
            "Epoch 88/100\n",
            "25/25 - 0s - loss: 0.1662 - categorical_accuracy: 1.0000 - 129ms/epoch - 5ms/step\n",
            "Epoch 89/100\n",
            "25/25 - 0s - loss: 0.1602 - categorical_accuracy: 1.0000 - 123ms/epoch - 5ms/step\n",
            "Epoch 90/100\n",
            "25/25 - 0s - loss: 0.1542 - categorical_accuracy: 1.0000 - 124ms/epoch - 5ms/step\n",
            "Epoch 91/100\n",
            "25/25 - 0s - loss: 0.1488 - categorical_accuracy: 1.0000 - 114ms/epoch - 5ms/step\n",
            "Epoch 92/100\n",
            "25/25 - 0s - loss: 0.1436 - categorical_accuracy: 1.0000 - 115ms/epoch - 5ms/step\n",
            "Epoch 93/100\n",
            "25/25 - 0s - loss: 0.1385 - categorical_accuracy: 1.0000 - 122ms/epoch - 5ms/step\n",
            "Epoch 94/100\n",
            "25/25 - 0s - loss: 0.1339 - categorical_accuracy: 1.0000 - 136ms/epoch - 5ms/step\n",
            "Epoch 95/100\n",
            "25/25 - 0s - loss: 0.1294 - categorical_accuracy: 1.0000 - 122ms/epoch - 5ms/step\n",
            "Epoch 96/100\n",
            "25/25 - 0s - loss: 0.1250 - categorical_accuracy: 1.0000 - 127ms/epoch - 5ms/step\n",
            "Epoch 97/100\n",
            "25/25 - 0s - loss: 0.1207 - categorical_accuracy: 1.0000 - 125ms/epoch - 5ms/step\n",
            "Epoch 98/100\n",
            "25/25 - 0s - loss: 0.1171 - categorical_accuracy: 1.0000 - 130ms/epoch - 5ms/step\n",
            "Epoch 99/100\n",
            "25/25 - 0s - loss: 0.1131 - categorical_accuracy: 1.0000 - 90ms/epoch - 4ms/step\n",
            "Epoch 100/100\n",
            "25/25 - 0s - loss: 0.1097 - categorical_accuracy: 1.0000 - 83ms/epoch - 3ms/step\n"
          ]
        },
        {
          "data": {
            "text/plain": [
              "<keras.src.callbacks.History at 0x7a91354d1060>"
            ]
          },
          "execution_count": 19,
          "metadata": {},
          "output_type": "execute_result"
        }
      ],
      "source": [
        "model.compile(loss='categorical_crossentropy', optimizer='adam', metrics=['categorical_accuracy'])\n",
        "model.fit(X, y, epochs=100, batch_size=1, verbose=2)"
      ]
    },
    {
      "cell_type": "markdown",
      "metadata": {
        "id": "fclp1frZvZst"
      },
      "source": [
        "### STEP7. 評估模型準確率"
      ]
    },
    {
      "cell_type": "code",
      "execution_count": 20,
      "metadata": {
        "colab": {
          "base_uri": "https://localhost:8080/"
        },
        "id": "T3JyAlKyvZsu",
        "outputId": "10ed9daa-ff8b-41ec-bf8a-b06be151a1a9"
      },
      "outputs": [
        {
          "name": "stdout",
          "output_type": "stream",
          "text": [
            "Model Accuracy: 100.00%\n"
          ]
        }
      ],
      "source": [
        "# 評估模型的性能\n",
        "scores = model.evaluate(X, y, verbose=0)\n",
        "print(\"Model Accuracy: %.2f%%\" % (scores[1]*100))"
      ]
    },
    {
      "cell_type": "markdown",
      "metadata": {
        "id": "0ijptfj_vZsw"
      },
      "source": [
        "### STEP8. 預測結果"
      ]
    },
    {
      "cell_type": "code",
      "execution_count": 21,
      "metadata": {
        "colab": {
          "base_uri": "https://localhost:8080/"
        },
        "id": "fjFBA6mBvZsw",
        "outputId": "c2b019c5-74c5-43ed-bffa-f83d9f6f5c0e"
      },
      "outputs": [
        {
          "name": "stdout",
          "output_type": "stream",
          "text": [
            "['A'] -> B\n",
            "['B'] -> C\n",
            "['C'] -> D\n",
            "['D'] -> E\n",
            "['E'] -> F\n",
            "['F'] -> G\n",
            "['G'] -> H\n",
            "['H'] -> I\n",
            "['I'] -> J\n",
            "['J'] -> K\n",
            "['K'] -> L\n",
            "['L'] -> M\n",
            "['M'] -> N\n",
            "['N'] -> O\n",
            "['O'] -> P\n",
            "['P'] -> Q\n",
            "['Q'] -> R\n",
            "['R'] -> S\n",
            "['S'] -> T\n",
            "['T'] -> U\n",
            "['U'] -> V\n",
            "['V'] -> W\n",
            "['W'] -> X\n",
            "['X'] -> Y\n",
            "['Y'] -> Z\n"
          ]
        }
      ],
      "source": [
        "# 展示模型預測能力\n",
        "for pattern in dataX:\n",
        "    # 把26個字母一個個拿進模型來預測會出現的字母\n",
        "    x = numpy.reshape(pattern, (1, len(pattern)))\n",
        "    # x = x / float(len(alphabet))!!! 不用作!!\n",
        "\n",
        "    prediction = model.predict(x, verbose=0)\n",
        "    index = numpy.argmax(prediction) # 機率最大的idx\n",
        "    result = int_to_char[index] # 看看預測出來的是那一個字母\n",
        "    seq_in = [int_to_char[value] for value in pattern]\n",
        "    print(seq_in, \"->\", result) # 打印結果"
      ]
    },
    {
      "cell_type": "markdown",
      "metadata": {
        "id": "zXE3RjoAEU25"
      },
      "source": [
        "\n",
        "\n",
        "---\n",
        "\n",
        "\n",
        "\n",
        "---\n",
        "\n"
      ]
    },
    {
      "cell_type": "markdown",
      "metadata": {
        "id": "SjJnPzeHvZtD"
      },
      "source": [
        "## 模型 3. LSTM 學習三個字符的時間步驟窗口(Three-Char Time Step Window)到一個字符的映射"
      ]
    },
    {
      "cell_type": "markdown",
      "metadata": {
        "id": "aJ2wEoNzvZtD"
      },
      "source": [
        "### STEP1. 準備訓練用資料"
      ]
    },
    {
      "cell_type": "code",
      "execution_count": 22,
      "metadata": {
        "colab": {
          "base_uri": "https://localhost:8080/"
        },
        "id": "3xOBXdPPvZtD",
        "outputId": "e056ba7f-a677-4e82-a39d-a3e0201bf9d0"
      },
      "outputs": [
        {
          "name": "stdout",
          "output_type": "stream",
          "text": [
            "ABC -> D\n",
            "BCD -> E\n",
            "CDE -> F\n",
            "DEF -> G\n",
            "EFG -> H\n",
            "FGH -> I\n",
            "GHI -> J\n",
            "HIJ -> K\n",
            "IJK -> L\n",
            "JKL -> M\n",
            "KLM -> N\n",
            "LMN -> O\n",
            "MNO -> P\n",
            "NOP -> Q\n",
            "OPQ -> R\n",
            "PQR -> S\n",
            "QRS -> T\n",
            "RST -> U\n",
            "STU -> V\n",
            "TUV -> W\n",
            "UVW -> X\n",
            "VWX -> Y\n",
            "WXY -> Z\n"
          ]
        }
      ],
      "source": [
        "seq_length = 3\n",
        "dataX = []\n",
        "dataY = []\n",
        "for i in range(0, len(alphabet) - seq_length, 1):\n",
        "    seq_in = alphabet[i:i + seq_length]\n",
        "    seq_out = alphabet[i + seq_length]\n",
        "    dataX.append([char_to_int[char] for char in seq_in])\n",
        "    dataY.append(char_to_int[seq_out])\n",
        "    print(seq_in, '->', seq_out)"
      ]
    },
    {
      "cell_type": "markdown",
      "metadata": {
        "id": "uqT1kVuxvZtF"
      },
      "source": [
        "### STEP2. 資料預處理\n",
        "\n",
        "\n",
        "> ABCDEFGHIJKLMNOPQRSTUVWXYZ\n",
        "\n",
        "> 例如:\n",
        "\n",
        "> 給 HIJ -> 預測 K\n",
        "\n",
        "> 給 EFG -> 預測 H\n",
        "\n",
        "目標訓練張量結構: (samples, time_steps) -> (n , **3**)\n"
      ]
    },
    {
      "cell_type": "code",
      "execution_count": 23,
      "metadata": {
        "colab": {
          "base_uri": "https://localhost:8080/"
        },
        "id": "k_QQIqNsvZtF",
        "outputId": "e4030cdc-6995-49a5-8256-7860c42dfe08"
      },
      "outputs": [
        {
          "name": "stdout",
          "output_type": "stream",
          "text": [
            "X shape:  (23, 3)\n",
            "y shape:  (23, 26)\n"
          ]
        }
      ],
      "source": [
        "X = numpy.array(dataX)\n",
        "\n",
        "# one-hot 編碼輸出變量\n",
        "y = utils.to_categorical(dataY)\n",
        "\n",
        "\n",
        "print(\"X shape: \", X.shape) # (25筆samples, \"3\"個時間步長) (batch, timesteps)\n",
        "print(\"y shape: \", y.shape)"
      ]
    },
    {
      "cell_type": "markdown",
      "metadata": {
        "id": "_5T04uxgvZtH"
      },
      "source": [
        "### STEP3. 建立模型"
      ]
    },
    {
      "cell_type": "code",
      "execution_count": 24,
      "metadata": {
        "colab": {
          "base_uri": "https://localhost:8080/"
        },
        "id": "uvEZ9fYzvZtH",
        "outputId": "157b0e0c-4318-48f1-ef5d-5d7c0468bd94"
      },
      "outputs": [
        {
          "name": "stdout",
          "output_type": "stream",
          "text": [
            "Model: \"sequential_6\"\n",
            "_________________________________________________________________\n",
            " Layer (type)                Output Shape              Param #   \n",
            "=================================================================\n",
            " embedding_6 (Embedding)     (None, 3, 4)              96        \n",
            "                                                                 \n",
            " lstm_6 (LSTM)               (None, 32)                4736      \n",
            "                                                                 \n",
            " dense_6 (Dense)             (None, 26)                858       \n",
            "                                                                 \n",
            "=================================================================\n",
            "Total params: 5690 (22.23 KB)\n",
            "Trainable params: 5690 (22.23 KB)\n",
            "Non-trainable params: 0 (0.00 Byte)\n",
            "_________________________________________________________________\n"
          ]
        }
      ],
      "source": [
        "# 創建模型 (your work)\n",
        "from tensorflow.keras import Sequential\n",
        "from tensorflow.keras.layers import Dense, SimpleRNN, Dropout, Embedding\n",
        "\n",
        "# 創建模型\n",
        "model = Sequential()   # 輸入 （sample size，time steps ） with label encoding!!!\n",
        "model.add(Embedding(len(X)+1, 4, input_length=3)) # => Embedding參數(input features, output features (word2vec's size), time steps)\n",
        "model.add(LSTM(32)) # 輸入 （sample size，time steps, input features）\n",
        "model.add(Dense(26, activation='softmax'))\n",
        "\n",
        "model.summary()"
      ]
    },
    {
      "cell_type": "markdown",
      "metadata": {
        "id": "0mE2bL5tvZtJ"
      },
      "source": [
        "### STEP4. 定義訓練並進行訓練"
      ]
    },
    {
      "cell_type": "code",
      "execution_count": 25,
      "metadata": {
        "colab": {
          "base_uri": "https://localhost:8080/"
        },
        "id": "8FPYcXO4vZtJ",
        "outputId": "ecfead00-9676-43d7-c723-79e5ee8ade83"
      },
      "outputs": [
        {
          "name": "stdout",
          "output_type": "stream",
          "text": [
            "Epoch 1/100\n",
            "23/23 - 3s - loss: 3.2647 - categorical_accuracy: 0.0000e+00 - 3s/epoch - 114ms/step\n",
            "Epoch 2/100\n",
            "23/23 - 0s - loss: 3.2560 - categorical_accuracy: 0.0435 - 122ms/epoch - 5ms/step\n",
            "Epoch 3/100\n",
            "23/23 - 0s - loss: 3.2519 - categorical_accuracy: 0.0435 - 129ms/epoch - 6ms/step\n",
            "Epoch 4/100\n",
            "23/23 - 0s - loss: 3.2475 - categorical_accuracy: 0.0435 - 114ms/epoch - 5ms/step\n",
            "Epoch 5/100\n",
            "23/23 - 0s - loss: 3.2421 - categorical_accuracy: 0.1304 - 112ms/epoch - 5ms/step\n",
            "Epoch 6/100\n",
            "23/23 - 0s - loss: 3.2360 - categorical_accuracy: 0.0870 - 112ms/epoch - 5ms/step\n",
            "Epoch 7/100\n",
            "23/23 - 0s - loss: 3.2281 - categorical_accuracy: 0.1739 - 117ms/epoch - 5ms/step\n",
            "Epoch 8/100\n",
            "23/23 - 0s - loss: 3.2182 - categorical_accuracy: 0.1739 - 90ms/epoch - 4ms/step\n",
            "Epoch 9/100\n",
            "23/23 - 0s - loss: 3.2034 - categorical_accuracy: 0.2609 - 78ms/epoch - 3ms/step\n",
            "Epoch 10/100\n",
            "23/23 - 0s - loss: 3.1820 - categorical_accuracy: 0.2609 - 82ms/epoch - 4ms/step\n",
            "Epoch 11/100\n",
            "23/23 - 0s - loss: 3.1496 - categorical_accuracy: 0.2174 - 78ms/epoch - 3ms/step\n",
            "Epoch 12/100\n",
            "23/23 - 0s - loss: 3.0964 - categorical_accuracy: 0.2609 - 77ms/epoch - 3ms/step\n",
            "Epoch 13/100\n",
            "23/23 - 0s - loss: 3.0153 - categorical_accuracy: 0.1739 - 92ms/epoch - 4ms/step\n",
            "Epoch 14/100\n",
            "23/23 - 0s - loss: 2.8908 - categorical_accuracy: 0.1304 - 74ms/epoch - 3ms/step\n",
            "Epoch 15/100\n",
            "23/23 - 0s - loss: 2.7308 - categorical_accuracy: 0.2174 - 77ms/epoch - 3ms/step\n",
            "Epoch 16/100\n",
            "23/23 - 0s - loss: 2.5526 - categorical_accuracy: 0.1739 - 77ms/epoch - 3ms/step\n",
            "Epoch 17/100\n",
            "23/23 - 0s - loss: 2.4002 - categorical_accuracy: 0.1739 - 80ms/epoch - 3ms/step\n",
            "Epoch 18/100\n",
            "23/23 - 0s - loss: 2.2586 - categorical_accuracy: 0.2174 - 84ms/epoch - 4ms/step\n",
            "Epoch 19/100\n",
            "23/23 - 0s - loss: 2.1356 - categorical_accuracy: 0.2174 - 81ms/epoch - 4ms/step\n",
            "Epoch 20/100\n",
            "23/23 - 0s - loss: 2.0124 - categorical_accuracy: 0.3913 - 76ms/epoch - 3ms/step\n",
            "Epoch 21/100\n",
            "23/23 - 0s - loss: 1.8974 - categorical_accuracy: 0.3913 - 87ms/epoch - 4ms/step\n",
            "Epoch 22/100\n",
            "23/23 - 0s - loss: 1.7901 - categorical_accuracy: 0.4783 - 78ms/epoch - 3ms/step\n",
            "Epoch 23/100\n",
            "23/23 - 0s - loss: 1.6932 - categorical_accuracy: 0.4783 - 78ms/epoch - 3ms/step\n",
            "Epoch 24/100\n",
            "23/23 - 0s - loss: 1.5992 - categorical_accuracy: 0.4783 - 78ms/epoch - 3ms/step\n",
            "Epoch 25/100\n",
            "23/23 - 0s - loss: 1.5100 - categorical_accuracy: 0.6087 - 88ms/epoch - 4ms/step\n",
            "Epoch 26/100\n",
            "23/23 - 0s - loss: 1.4261 - categorical_accuracy: 0.6957 - 80ms/epoch - 3ms/step\n",
            "Epoch 27/100\n",
            "23/23 - 0s - loss: 1.3502 - categorical_accuracy: 0.7391 - 79ms/epoch - 3ms/step\n",
            "Epoch 28/100\n",
            "23/23 - 0s - loss: 1.2702 - categorical_accuracy: 0.7391 - 81ms/epoch - 4ms/step\n",
            "Epoch 29/100\n",
            "23/23 - 0s - loss: 1.1924 - categorical_accuracy: 0.8261 - 78ms/epoch - 3ms/step\n",
            "Epoch 30/100\n",
            "23/23 - 0s - loss: 1.1214 - categorical_accuracy: 0.8696 - 77ms/epoch - 3ms/step\n",
            "Epoch 31/100\n",
            "23/23 - 0s - loss: 1.0552 - categorical_accuracy: 0.9130 - 78ms/epoch - 3ms/step\n",
            "Epoch 32/100\n",
            "23/23 - 0s - loss: 0.9941 - categorical_accuracy: 0.9565 - 78ms/epoch - 3ms/step\n",
            "Epoch 33/100\n",
            "23/23 - 0s - loss: 0.9388 - categorical_accuracy: 0.9565 - 80ms/epoch - 3ms/step\n",
            "Epoch 34/100\n",
            "23/23 - 0s - loss: 0.8864 - categorical_accuracy: 0.9565 - 80ms/epoch - 3ms/step\n",
            "Epoch 35/100\n",
            "23/23 - 0s - loss: 0.8272 - categorical_accuracy: 1.0000 - 82ms/epoch - 4ms/step\n",
            "Epoch 36/100\n",
            "23/23 - 0s - loss: 0.7823 - categorical_accuracy: 1.0000 - 79ms/epoch - 3ms/step\n",
            "Epoch 37/100\n",
            "23/23 - 0s - loss: 0.7436 - categorical_accuracy: 1.0000 - 84ms/epoch - 4ms/step\n",
            "Epoch 38/100\n",
            "23/23 - 0s - loss: 0.7019 - categorical_accuracy: 1.0000 - 77ms/epoch - 3ms/step\n",
            "Epoch 39/100\n",
            "23/23 - 0s - loss: 0.6686 - categorical_accuracy: 1.0000 - 83ms/epoch - 4ms/step\n",
            "Epoch 40/100\n",
            "23/23 - 0s - loss: 0.6301 - categorical_accuracy: 1.0000 - 75ms/epoch - 3ms/step\n",
            "Epoch 41/100\n",
            "23/23 - 0s - loss: 0.6027 - categorical_accuracy: 1.0000 - 75ms/epoch - 3ms/step\n",
            "Epoch 42/100\n",
            "23/23 - 0s - loss: 0.5672 - categorical_accuracy: 1.0000 - 81ms/epoch - 4ms/step\n",
            "Epoch 43/100\n",
            "23/23 - 0s - loss: 0.5454 - categorical_accuracy: 1.0000 - 74ms/epoch - 3ms/step\n",
            "Epoch 44/100\n",
            "23/23 - 0s - loss: 0.5187 - categorical_accuracy: 1.0000 - 75ms/epoch - 3ms/step\n",
            "Epoch 45/100\n",
            "23/23 - 0s - loss: 0.4963 - categorical_accuracy: 1.0000 - 79ms/epoch - 3ms/step\n",
            "Epoch 46/100\n",
            "23/23 - 0s - loss: 0.4716 - categorical_accuracy: 1.0000 - 80ms/epoch - 3ms/step\n",
            "Epoch 47/100\n",
            "23/23 - 0s - loss: 0.4498 - categorical_accuracy: 1.0000 - 78ms/epoch - 3ms/step\n",
            "Epoch 48/100\n",
            "23/23 - 0s - loss: 0.4299 - categorical_accuracy: 1.0000 - 78ms/epoch - 3ms/step\n",
            "Epoch 49/100\n",
            "23/23 - 0s - loss: 0.4116 - categorical_accuracy: 1.0000 - 89ms/epoch - 4ms/step\n",
            "Epoch 50/100\n",
            "23/23 - 0s - loss: 0.3919 - categorical_accuracy: 1.0000 - 78ms/epoch - 3ms/step\n",
            "Epoch 51/100\n",
            "23/23 - 0s - loss: 0.3749 - categorical_accuracy: 1.0000 - 82ms/epoch - 4ms/step\n",
            "Epoch 52/100\n",
            "23/23 - 0s - loss: 0.3616 - categorical_accuracy: 1.0000 - 78ms/epoch - 3ms/step\n",
            "Epoch 53/100\n",
            "23/23 - 0s - loss: 0.3431 - categorical_accuracy: 1.0000 - 77ms/epoch - 3ms/step\n",
            "Epoch 54/100\n",
            "23/23 - 0s - loss: 0.3308 - categorical_accuracy: 1.0000 - 76ms/epoch - 3ms/step\n",
            "Epoch 55/100\n",
            "23/23 - 0s - loss: 0.3146 - categorical_accuracy: 1.0000 - 73ms/epoch - 3ms/step\n",
            "Epoch 56/100\n",
            "23/23 - 0s - loss: 0.3029 - categorical_accuracy: 1.0000 - 79ms/epoch - 3ms/step\n",
            "Epoch 57/100\n",
            "23/23 - 0s - loss: 0.2901 - categorical_accuracy: 1.0000 - 76ms/epoch - 3ms/step\n",
            "Epoch 58/100\n",
            "23/23 - 0s - loss: 0.2769 - categorical_accuracy: 1.0000 - 78ms/epoch - 3ms/step\n",
            "Epoch 59/100\n",
            "23/23 - 0s - loss: 0.2659 - categorical_accuracy: 1.0000 - 80ms/epoch - 3ms/step\n",
            "Epoch 60/100\n",
            "23/23 - 0s - loss: 0.2563 - categorical_accuracy: 1.0000 - 75ms/epoch - 3ms/step\n",
            "Epoch 61/100\n",
            "23/23 - 0s - loss: 0.2465 - categorical_accuracy: 1.0000 - 74ms/epoch - 3ms/step\n",
            "Epoch 62/100\n",
            "23/23 - 0s - loss: 0.2365 - categorical_accuracy: 1.0000 - 83ms/epoch - 4ms/step\n",
            "Epoch 63/100\n",
            "23/23 - 0s - loss: 0.2280 - categorical_accuracy: 1.0000 - 79ms/epoch - 3ms/step\n",
            "Epoch 64/100\n",
            "23/23 - 0s - loss: 0.2197 - categorical_accuracy: 1.0000 - 74ms/epoch - 3ms/step\n",
            "Epoch 65/100\n",
            "23/23 - 0s - loss: 0.2113 - categorical_accuracy: 1.0000 - 76ms/epoch - 3ms/step\n",
            "Epoch 66/100\n",
            "23/23 - 0s - loss: 0.2038 - categorical_accuracy: 1.0000 - 81ms/epoch - 4ms/step\n",
            "Epoch 67/100\n",
            "23/23 - 0s - loss: 0.1960 - categorical_accuracy: 1.0000 - 78ms/epoch - 3ms/step\n",
            "Epoch 68/100\n",
            "23/23 - 0s - loss: 0.1887 - categorical_accuracy: 1.0000 - 78ms/epoch - 3ms/step\n",
            "Epoch 69/100\n",
            "23/23 - 0s - loss: 0.1827 - categorical_accuracy: 1.0000 - 80ms/epoch - 3ms/step\n",
            "Epoch 70/100\n",
            "23/23 - 0s - loss: 0.1767 - categorical_accuracy: 1.0000 - 78ms/epoch - 3ms/step\n",
            "Epoch 71/100\n",
            "23/23 - 0s - loss: 0.1703 - categorical_accuracy: 1.0000 - 78ms/epoch - 3ms/step\n",
            "Epoch 72/100\n",
            "23/23 - 0s - loss: 0.1654 - categorical_accuracy: 1.0000 - 76ms/epoch - 3ms/step\n",
            "Epoch 73/100\n",
            "23/23 - 0s - loss: 0.1599 - categorical_accuracy: 1.0000 - 81ms/epoch - 4ms/step\n",
            "Epoch 74/100\n",
            "23/23 - 0s - loss: 0.1544 - categorical_accuracy: 1.0000 - 87ms/epoch - 4ms/step\n",
            "Epoch 75/100\n",
            "23/23 - 0s - loss: 0.1492 - categorical_accuracy: 1.0000 - 78ms/epoch - 3ms/step\n",
            "Epoch 76/100\n",
            "23/23 - 0s - loss: 0.1446 - categorical_accuracy: 1.0000 - 86ms/epoch - 4ms/step\n",
            "Epoch 77/100\n",
            "23/23 - 0s - loss: 0.1406 - categorical_accuracy: 1.0000 - 80ms/epoch - 3ms/step\n",
            "Epoch 78/100\n",
            "23/23 - 0s - loss: 0.1366 - categorical_accuracy: 1.0000 - 80ms/epoch - 3ms/step\n",
            "Epoch 79/100\n",
            "23/23 - 0s - loss: 0.1327 - categorical_accuracy: 1.0000 - 76ms/epoch - 3ms/step\n",
            "Epoch 80/100\n",
            "23/23 - 0s - loss: 0.1284 - categorical_accuracy: 1.0000 - 79ms/epoch - 3ms/step\n",
            "Epoch 81/100\n",
            "23/23 - 0s - loss: 0.1244 - categorical_accuracy: 1.0000 - 78ms/epoch - 3ms/step\n",
            "Epoch 82/100\n",
            "23/23 - 0s - loss: 0.1205 - categorical_accuracy: 1.0000 - 76ms/epoch - 3ms/step\n",
            "Epoch 83/100\n",
            "23/23 - 0s - loss: 0.1173 - categorical_accuracy: 1.0000 - 79ms/epoch - 3ms/step\n",
            "Epoch 84/100\n",
            "23/23 - 0s - loss: 0.1144 - categorical_accuracy: 1.0000 - 77ms/epoch - 3ms/step\n",
            "Epoch 85/100\n",
            "23/23 - 0s - loss: 0.1107 - categorical_accuracy: 1.0000 - 77ms/epoch - 3ms/step\n",
            "Epoch 86/100\n",
            "23/23 - 0s - loss: 0.1078 - categorical_accuracy: 1.0000 - 87ms/epoch - 4ms/step\n",
            "Epoch 87/100\n",
            "23/23 - 0s - loss: 0.1052 - categorical_accuracy: 1.0000 - 79ms/epoch - 3ms/step\n",
            "Epoch 88/100\n",
            "23/23 - 0s - loss: 0.1023 - categorical_accuracy: 1.0000 - 75ms/epoch - 3ms/step\n",
            "Epoch 89/100\n",
            "23/23 - 0s - loss: 0.0992 - categorical_accuracy: 1.0000 - 80ms/epoch - 3ms/step\n",
            "Epoch 90/100\n",
            "23/23 - 0s - loss: 0.0969 - categorical_accuracy: 1.0000 - 77ms/epoch - 3ms/step\n",
            "Epoch 91/100\n",
            "23/23 - 0s - loss: 0.0943 - categorical_accuracy: 1.0000 - 76ms/epoch - 3ms/step\n",
            "Epoch 92/100\n",
            "23/23 - 0s - loss: 0.0914 - categorical_accuracy: 1.0000 - 75ms/epoch - 3ms/step\n",
            "Epoch 93/100\n",
            "23/23 - 0s - loss: 0.0896 - categorical_accuracy: 1.0000 - 83ms/epoch - 4ms/step\n",
            "Epoch 94/100\n",
            "23/23 - 0s - loss: 0.0872 - categorical_accuracy: 1.0000 - 80ms/epoch - 3ms/step\n",
            "Epoch 95/100\n",
            "23/23 - 0s - loss: 0.0853 - categorical_accuracy: 1.0000 - 75ms/epoch - 3ms/step\n",
            "Epoch 96/100\n",
            "23/23 - 0s - loss: 0.0832 - categorical_accuracy: 1.0000 - 75ms/epoch - 3ms/step\n",
            "Epoch 97/100\n",
            "23/23 - 0s - loss: 0.0809 - categorical_accuracy: 1.0000 - 79ms/epoch - 3ms/step\n",
            "Epoch 98/100\n",
            "23/23 - 0s - loss: 0.0793 - categorical_accuracy: 1.0000 - 83ms/epoch - 4ms/step\n",
            "Epoch 99/100\n",
            "23/23 - 0s - loss: 0.0773 - categorical_accuracy: 1.0000 - 89ms/epoch - 4ms/step\n",
            "Epoch 100/100\n",
            "23/23 - 0s - loss: 0.0751 - categorical_accuracy: 1.0000 - 79ms/epoch - 3ms/step\n"
          ]
        },
        {
          "data": {
            "text/plain": [
              "<keras.src.callbacks.History at 0x7a91351c2e00>"
            ]
          },
          "execution_count": 25,
          "metadata": {},
          "output_type": "execute_result"
        }
      ],
      "source": [
        "model.compile(loss='categorical_crossentropy', optimizer='adam', metrics=['categorical_accuracy'])\n",
        "model.fit(X, y, epochs=100, batch_size=1, verbose=2)"
      ]
    },
    {
      "cell_type": "markdown",
      "metadata": {
        "id": "PmRtls4hvZtL"
      },
      "source": [
        "### STEP5. 評估模型準確率"
      ]
    },
    {
      "cell_type": "code",
      "execution_count": 26,
      "metadata": {
        "colab": {
          "base_uri": "https://localhost:8080/"
        },
        "id": "PgmOT5wHvZtL",
        "outputId": "781b9bd8-4f45-490d-84ca-dde095f4f15b"
      },
      "outputs": [
        {
          "name": "stdout",
          "output_type": "stream",
          "text": [
            "Model Accuracy: 100.00%\n"
          ]
        }
      ],
      "source": [
        "# 評估模型的性能\n",
        "scores = model.evaluate(X, y, verbose=0)\n",
        "print(\"Model Accuracy: %.2f%%\" % (scores[1]*100))"
      ]
    },
    {
      "cell_type": "markdown",
      "metadata": {
        "id": "u_CLA_yovZtO"
      },
      "source": [
        "### STEP6. 預測結果"
      ]
    },
    {
      "cell_type": "code",
      "execution_count": 27,
      "metadata": {
        "colab": {
          "base_uri": "https://localhost:8080/"
        },
        "id": "oLfof3-zvZtO",
        "outputId": "6cee3fea-583a-48c0-cc11-2e57e8493b9d"
      },
      "outputs": [
        {
          "name": "stdout",
          "output_type": "stream",
          "text": [
            "['A', 'B', 'C'] -> D\n",
            "['B', 'C', 'D'] -> E\n",
            "['C', 'D', 'E'] -> F\n",
            "['D', 'E', 'F'] -> G\n",
            "['E', 'F', 'G'] -> H\n",
            "['F', 'G', 'H'] -> I\n",
            "['G', 'H', 'I'] -> J\n",
            "['H', 'I', 'J'] -> K\n",
            "['I', 'J', 'K'] -> L\n",
            "['J', 'K', 'L'] -> M\n",
            "['K', 'L', 'M'] -> N\n",
            "['L', 'M', 'N'] -> O\n",
            "['M', 'N', 'O'] -> P\n",
            "['N', 'O', 'P'] -> Q\n",
            "['O', 'P', 'Q'] -> R\n",
            "['P', 'Q', 'R'] -> S\n",
            "['Q', 'R', 'S'] -> T\n",
            "['R', 'S', 'T'] -> U\n",
            "['S', 'T', 'U'] -> V\n",
            "['T', 'U', 'V'] -> W\n",
            "['U', 'V', 'W'] -> X\n",
            "['V', 'W', 'X'] -> Y\n",
            "['W', 'X', 'Y'] -> Z\n"
          ]
        }
      ],
      "source": [
        "# 讓我們擷取3個字符轉成張量結構 shape:(1,3,1)來進行infer\n",
        "for pattern in dataX:\n",
        "    x = numpy.reshape(pattern, (1, len(pattern), 1))\n",
        "    # x = x / float(len(alphabet)) !!! 不做!\n",
        "    prediction = model.predict(x, verbose=0)\n",
        "    index = numpy.argmax(prediction)\n",
        "    result = int_to_char[index]\n",
        "    seq_in = [int_to_char[value] for value in pattern]\n",
        "    print(seq_in, \"->\", result)"
      ]
    },
    {
      "cell_type": "code",
      "execution_count": null,
      "metadata": {
        "id": "il0jQS_lvMPF"
      },
      "outputs": [],
      "source": []
    }
  ],
  "metadata": {
    "accelerator": "GPU",
    "colab": {
      "provenance": []
    },
    "kernelspec": {
      "display_name": "Python 3",
      "language": "python",
      "name": "python3"
    },
    "language_info": {
      "codemirror_mode": {
        "name": "ipython",
        "version": 3
      },
      "file_extension": ".py",
      "mimetype": "text/x-python",
      "name": "python",
      "nbconvert_exporter": "python",
      "pygments_lexer": "ipython3",
      "version": "3.7.9"
    }
  },
  "nbformat": 4,
  "nbformat_minor": 0
}
